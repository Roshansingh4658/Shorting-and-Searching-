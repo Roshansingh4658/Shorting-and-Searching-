{
 "cells": [
  {
   "cell_type": "code",
   "execution_count": 1,
   "id": "2720f8bd-667b-45eb-8299-7921b46a44a4",
   "metadata": {},
   "outputs": [
    {
     "name": "stdout",
     "output_type": "stream",
     "text": [
      "Intersection: [5]\n"
     ]
    }
   ],
   "source": [
    "def intersection_of_sorted_arrays(A, B):\n",
    "    intersection = []\n",
    "    i = 0  # Pointer for array A\n",
    "    j = 0  # Pointer for array B\n",
    "    \n",
    "    # Iterate through both arrays while pointers are within bounds\n",
    "    while i < len(A) and j < len(B):\n",
    "        if A[i] == B[j]:\n",
    "            intersection.append(A[i])\n",
    "            i += 1\n",
    "            j += 1\n",
    "        elif A[i] < B[j]:\n",
    "            i += 1\n",
    "        else:\n",
    "            j += 1\n",
    "    \n",
    "    return intersection\n",
    "\n",
    "# Test the function with the given input\n",
    "A = [1, 3, 5, 7, 9]\n",
    "B = [2, 4, 5, 8]\n",
    "print(\"Intersection:\", intersection_of_sorted_arrays(A, B))\n"
   ]
  },
  {
   "cell_type": "code",
   "execution_count": 2,
   "id": "4a254898-a84f-46de-a4ea-b076b3ef64f4",
   "metadata": {},
   "outputs": [
    {
     "name": "stdout",
     "output_type": "stream",
     "text": [
      "The 3rd smallest element is 7\n"
     ]
    }
   ],
   "source": [
    "def kth_smallest_element(nums, k):\n",
    "    # Sort the list\n",
    "    nums.sort()\n",
    "    \n",
    "    # Return the kth smallest element\n",
    "    return nums[k - 1]\n",
    "\n",
    "# Test the function with the given input\n",
    "nums = [12, 3, 1, 7, 8, 20]\n",
    "k = 3\n",
    "result = kth_smallest_element(nums, k)\n",
    "print(f\"The {k}rd smallest element is {result}\")\n"
   ]
  },
  {
   "cell_type": "code",
   "execution_count": 3,
   "id": "10601629-8a46-4428-a2fe-fed72ae74622",
   "metadata": {},
   "outputs": [
    {
     "name": "stdout",
     "output_type": "stream",
     "text": [
      "Element 6 found at index 2\n"
     ]
    }
   ],
   "source": [
    "def search_rotated_array(nums, target):\n",
    "    # Function to find the pivot point\n",
    "    def find_pivot(nums):\n",
    "        left, right = 0, len(nums) - 1\n",
    "        while left < right:\n",
    "            mid = left + (right - left) // 2\n",
    "            if nums[mid] > nums[right]:\n",
    "                left = mid + 1\n",
    "            else:\n",
    "                right = mid\n",
    "        return left\n",
    "\n",
    "    # Binary search function\n",
    "    def binary_search(nums, target):\n",
    "        left, right = 0, len(nums) - 1\n",
    "        while left <= right:\n",
    "            mid = left + (right - left) // 2\n",
    "            if nums[mid] == target:\n",
    "                return mid\n",
    "            elif nums[mid] < target:\n",
    "                left = mid + 1\n",
    "            else:\n",
    "                right = mid - 1\n",
    "        return -1\n",
    "\n",
    "    # Find the pivot point\n",
    "    pivot = find_pivot(nums)\n",
    "\n",
    "    # Perform binary search on the appropriate subarray\n",
    "    if nums[pivot] <= target <= nums[-1]:\n",
    "        return binary_search(nums[pivot:], target)\n",
    "    else:\n",
    "        return binary_search(nums[:pivot], target)\n",
    "\n",
    "# Test the function with the given input\n",
    "nums = [4, 5, 6, 7, 8, 9, 1, 2, 3]\n",
    "target = 6\n",
    "index = search_rotated_array(nums, target)\n",
    "if index != -1:\n",
    "    print(f\"Element {target} found at index {index}\")\n",
    "else:\n",
    "    print(f\"Element {target} not found\")\n"
   ]
  },
  {
   "cell_type": "code",
   "execution_count": 4,
   "id": "609e99f4-3189-429d-952d-057dbc223c81",
   "metadata": {},
   "outputs": [
    {
     "name": "stdout",
     "output_type": "stream",
     "text": [
      "Element 11 found at position (1, 2)\n"
     ]
    }
   ],
   "source": [
    "def search_in_matrix(matrix, target):\n",
    "    if not matrix:\n",
    "        return \"Matrix is empty\"\n",
    "\n",
    "    rows = len(matrix)\n",
    "    cols = len(matrix[0])\n",
    "\n",
    "    for i in range(rows):\n",
    "        for j in range(cols):\n",
    "            if matrix[i][j] == target:\n",
    "                return f\"Element {target} found at position ({i}, {j})\"\n",
    "    \n",
    "    return f\"Element {target} not found\"\n",
    "\n",
    "# Test the function with the given input\n",
    "Matrix = [\n",
    "    [1, 3, 5],\n",
    "    [7, 9, 11],\n",
    "    [13, 15, 17]\n",
    "]\n",
    "Element = 11\n",
    "\n",
    "print(search_in_matrix(Matrix, Element))\n"
   ]
  },
  {
   "cell_type": "code",
   "execution_count": 5,
   "id": "7de59be2-2b2b-4811-a989-2d92ab7d82ae",
   "metadata": {},
   "outputs": [
    {
     "name": "stdout",
     "output_type": "stream",
     "text": [
      "['kiwi', 'apple', 'grape', 'banana', 'orange']\n"
     ]
    }
   ],
   "source": [
    "def sort_strings_by_length(strings):\n",
    "    # Sort the strings based on their length\n",
    "    sorted_strings = sorted(strings, key=len)\n",
    "    return sorted_strings\n",
    "\n",
    "# Test the function with the given input\n",
    "input_strings = ['apple', 'banana', 'kiwi', 'orange', 'grape']\n",
    "output_strings = sort_strings_by_length(input_strings)\n",
    "print(output_strings)\n"
   ]
  },
  {
   "cell_type": "code",
   "execution_count": 6,
   "id": "eae33510-5b50-4b2d-a023-5b97eb0cf941",
   "metadata": {},
   "outputs": [
    {
     "name": "stdout",
     "output_type": "stream",
     "text": [
      "Sorted array: [5, 6, 7, 11, 12, 13]\n"
     ]
    }
   ],
   "source": [
    "def merge_sort(arr):\n",
    "    if len(arr) <= 1:\n",
    "        return arr\n",
    "    \n",
    "    # Divide the array into two halves\n",
    "    mid = len(arr) // 2\n",
    "    left_half = arr[:mid]\n",
    "    right_half = arr[mid:]\n",
    "    \n",
    "    # Recursively sort the two halves\n",
    "    left_half = merge_sort(left_half)\n",
    "    right_half = merge_sort(right_half)\n",
    "    \n",
    "    # Merge the sorted halves\n",
    "    return merge(left_half, right_half)\n",
    "\n",
    "def merge(left, right):\n",
    "    merged = []\n",
    "    left_index, right_index = 0, 0\n",
    "    \n",
    "    # Compare elements from both halves and merge them in sorted order\n",
    "    while left_index < len(left) and right_index < len(right):\n",
    "        if left[left_index] < right[right_index]:\n",
    "            merged.append(left[left_index])\n",
    "            left_index += 1\n",
    "        else:\n",
    "            merged.append(right[right_index])\n",
    "            right_index += 1\n",
    "    \n",
    "    # Append remaining elements from the left half\n",
    "    while left_index < len(left):\n",
    "        merged.append(left[left_index])\n",
    "        left_index += 1\n",
    "    \n",
    "    # Append remaining elements from the right half\n",
    "    while right_index < len(right):\n",
    "        merged.append(right[right_index])\n",
    "        right_index += 1\n",
    "    \n",
    "    return merged\n",
    "\n",
    "# Test the merge sort function\n",
    "arr = [12, 11, 13, 5, 6, 7]\n",
    "sorted_arr = merge_sort(arr)\n",
    "print(\"Sorted array:\", sorted_arr)\n"
   ]
  },
  {
   "cell_type": "code",
   "execution_count": 7,
   "id": "ee3082ee-ec11-4556-a062-9eafbdaa43eb",
   "metadata": {},
   "outputs": [
    {
     "name": "stdout",
     "output_type": "stream",
     "text": [
      "Sorted array: [5, 6, 7, 11, 12, 13]\n"
     ]
    }
   ],
   "source": [
    "def quick_sort(arr):\n",
    "    if len(arr) <= 1:\n",
    "        return arr\n",
    "    \n",
    "    pivot = arr[len(arr) // 2]  # Choose the middle element as the pivot\n",
    "    left = [x for x in arr if x < pivot]\n",
    "    middle = [x for x in arr if x == pivot]\n",
    "    right = [x for x in arr if x > pivot]\n",
    "    \n",
    "    return quick_sort(left) + middle + quick_sort(right)\n",
    "\n",
    "# Test the quick sort function\n",
    "arr = [12, 11, 13, 5, 6, 7]\n",
    "sorted_arr = quick_sort(arr)\n",
    "print(\"Sorted array:\", sorted_arr)\n"
   ]
  },
  {
   "cell_type": "code",
   "execution_count": 8,
   "id": "73cada4a-bfa2-4ea4-b53c-e256a90e6653",
   "metadata": {},
   "outputs": [
    {
     "name": "stdout",
     "output_type": "stream",
     "text": [
      "Sorted array: [1, 2, 2, 3, 3, 4, 8]\n"
     ]
    }
   ],
   "source": [
    "def counting_sort(arr):\n",
    "    # Find the maximum element in the array\n",
    "    max_element = max(arr)\n",
    "    \n",
    "    # Initialize a count array to store the count of each element\n",
    "    count = [0] * (max_element + 1)\n",
    "    \n",
    "    # Count the occurrences of each element\n",
    "    for num in arr:\n",
    "        count[num] += 1\n",
    "    \n",
    "    # Reconstruct the sorted array using the count array\n",
    "    sorted_arr = []\n",
    "    for i in range(len(count)):\n",
    "        sorted_arr.extend([i] * count[i])\n",
    "    \n",
    "    return sorted_arr\n",
    "\n",
    "# Test the counting sort function\n",
    "arr = [4, 2, 2, 8, 3, 3, 1]\n",
    "sorted_arr = counting_sort(arr)\n",
    "print(\"Sorted array:\", sorted_arr)\n"
   ]
  },
  {
   "cell_type": "code",
   "execution_count": null,
   "id": "d7993244-1f47-4e44-b599-47699581ac96",
   "metadata": {},
   "outputs": [],
   "source": []
  }
 ],
 "metadata": {
  "kernelspec": {
   "display_name": "Python 3 (ipykernel)",
   "language": "python",
   "name": "python3"
  },
  "language_info": {
   "codemirror_mode": {
    "name": "ipython",
    "version": 3
   },
   "file_extension": ".py",
   "mimetype": "text/x-python",
   "name": "python",
   "nbconvert_exporter": "python",
   "pygments_lexer": "ipython3",
   "version": "3.11.7"
  }
 },
 "nbformat": 4,
 "nbformat_minor": 5
}
